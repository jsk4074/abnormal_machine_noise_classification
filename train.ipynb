{
 "cells": [
  {
   "cell_type": "code",
   "execution_count": 1,
   "metadata": {},
   "outputs": [],
   "source": [
    "import pandas as pd\n",
    "import numpy as np\n",
    "import matplotlib.pyplot as plt\n",
    "import os\n",
    "import warnings\n",
    "import tensorflow as tf\n",
    "from tqdm.notebook import tqdm\n",
    "from glob import glob\n",
    "\n",
    "# Audio\n",
    "import librosa\n",
    "import librosa.display as dsp\n",
    "import IPython.display as ipd\n",
    "import seaborn as sns"
   ]
  },
  {
   "cell_type": "code",
   "execution_count": 6,
   "metadata": {},
   "outputs": [
    {
     "data": {
      "text/html": [
       "<div>\n",
       "<style scoped>\n",
       "    .dataframe tbody tr th:only-of-type {\n",
       "        vertical-align: middle;\n",
       "    }\n",
       "\n",
       "    .dataframe tbody tr th {\n",
       "        vertical-align: top;\n",
       "    }\n",
       "\n",
       "    .dataframe thead th {\n",
       "        text-align: right;\n",
       "    }\n",
       "</style>\n",
       "<table border=\"1\" class=\"dataframe\">\n",
       "  <thead>\n",
       "    <tr style=\"text-align: right;\">\n",
       "      <th></th>\n",
       "      <th>SAMPLE_ID</th>\n",
       "      <th>SAMPLE_PATH</th>\n",
       "      <th>FAN_TYPE</th>\n",
       "      <th>LABEL</th>\n",
       "    </tr>\n",
       "  </thead>\n",
       "  <tbody>\n",
       "    <tr>\n",
       "      <th>0</th>\n",
       "      <td>TRAIN_0000</td>\n",
       "      <td>./train/TRAIN_0000.wav</td>\n",
       "      <td>2</td>\n",
       "      <td>0</td>\n",
       "    </tr>\n",
       "    <tr>\n",
       "      <th>1</th>\n",
       "      <td>TRAIN_0001</td>\n",
       "      <td>./train/TRAIN_0001.wav</td>\n",
       "      <td>0</td>\n",
       "      <td>0</td>\n",
       "    </tr>\n",
       "    <tr>\n",
       "      <th>2</th>\n",
       "      <td>TRAIN_0002</td>\n",
       "      <td>./train/TRAIN_0002.wav</td>\n",
       "      <td>0</td>\n",
       "      <td>0</td>\n",
       "    </tr>\n",
       "    <tr>\n",
       "      <th>3</th>\n",
       "      <td>TRAIN_0003</td>\n",
       "      <td>./train/TRAIN_0003.wav</td>\n",
       "      <td>2</td>\n",
       "      <td>0</td>\n",
       "    </tr>\n",
       "    <tr>\n",
       "      <th>4</th>\n",
       "      <td>TRAIN_0004</td>\n",
       "      <td>./train/TRAIN_0004.wav</td>\n",
       "      <td>2</td>\n",
       "      <td>0</td>\n",
       "    </tr>\n",
       "    <tr>\n",
       "      <th>...</th>\n",
       "      <td>...</td>\n",
       "      <td>...</td>\n",
       "      <td>...</td>\n",
       "      <td>...</td>\n",
       "    </tr>\n",
       "    <tr>\n",
       "      <th>1274</th>\n",
       "      <td>TRAIN_1274</td>\n",
       "      <td>./train/TRAIN_1274.wav</td>\n",
       "      <td>2</td>\n",
       "      <td>0</td>\n",
       "    </tr>\n",
       "    <tr>\n",
       "      <th>1275</th>\n",
       "      <td>TRAIN_1275</td>\n",
       "      <td>./train/TRAIN_1275.wav</td>\n",
       "      <td>2</td>\n",
       "      <td>0</td>\n",
       "    </tr>\n",
       "    <tr>\n",
       "      <th>1276</th>\n",
       "      <td>TRAIN_1276</td>\n",
       "      <td>./train/TRAIN_1276.wav</td>\n",
       "      <td>2</td>\n",
       "      <td>0</td>\n",
       "    </tr>\n",
       "    <tr>\n",
       "      <th>1277</th>\n",
       "      <td>TRAIN_1277</td>\n",
       "      <td>./train/TRAIN_1277.wav</td>\n",
       "      <td>2</td>\n",
       "      <td>0</td>\n",
       "    </tr>\n",
       "    <tr>\n",
       "      <th>1278</th>\n",
       "      <td>TRAIN_1278</td>\n",
       "      <td>./train/TRAIN_1278.wav</td>\n",
       "      <td>0</td>\n",
       "      <td>0</td>\n",
       "    </tr>\n",
       "  </tbody>\n",
       "</table>\n",
       "<p>1279 rows × 4 columns</p>\n",
       "</div>"
      ],
      "text/plain": [
       "       SAMPLE_ID             SAMPLE_PATH  FAN_TYPE  LABEL\n",
       "0     TRAIN_0000  ./train/TRAIN_0000.wav         2      0\n",
       "1     TRAIN_0001  ./train/TRAIN_0001.wav         0      0\n",
       "2     TRAIN_0002  ./train/TRAIN_0002.wav         0      0\n",
       "3     TRAIN_0003  ./train/TRAIN_0003.wav         2      0\n",
       "4     TRAIN_0004  ./train/TRAIN_0004.wav         2      0\n",
       "...          ...                     ...       ...    ...\n",
       "1274  TRAIN_1274  ./train/TRAIN_1274.wav         2      0\n",
       "1275  TRAIN_1275  ./train/TRAIN_1275.wav         2      0\n",
       "1276  TRAIN_1276  ./train/TRAIN_1276.wav         2      0\n",
       "1277  TRAIN_1277  ./train/TRAIN_1277.wav         2      0\n",
       "1278  TRAIN_1278  ./train/TRAIN_1278.wav         0      0\n",
       "\n",
       "[1279 rows x 4 columns]"
      ]
     },
     "execution_count": 6,
     "metadata": {},
     "output_type": "execute_result"
    }
   ],
   "source": [
    "import random\n",
    "\n",
    "def seed_everything(seed):\n",
    "    random.seed(seed)\n",
    "    os.environ['PYTHONHASHSEED'] = str(seed)\n",
    "    np.random.seed(seed)\n",
    "    tf.random.set_seed(seed)\n",
    "\n",
    "seed_everything(813)\n",
    "\n",
    "# Read csv file\n",
    "train_csv = pd.read_csv('./data/train.csv')\n",
    "test_csv = pd.read_csv('./data/test.csv')\n",
    "submission_csv = pd.read_csv('./data/sample_submission.csv')\n",
    "\n",
    "train_csv"
   ]
  },
  {
   "cell_type": "code",
   "execution_count": 4,
   "metadata": {},
   "outputs": [
    {
     "name": "stdout",
     "output_type": "stream",
     "text": [
      "train data count:  1279\n",
      "train data count:  1514\n"
     ]
    }
   ],
   "source": [
    "# Read audio dataset \n",
    "sr = 16000\n",
    "\n",
    "# Data path\n",
    "train_path_list = glob('./data/train/*.*')\n",
    "test_path_list = glob('./data/test/*.*')\n",
    "\n",
    "print('train data count: ', len(train_path_list))\n",
    "print('train data count: ', len(test_path_list))"
   ]
  },
  {
   "cell_type": "code",
   "execution_count": 5,
   "metadata": {},
   "outputs": [
    {
     "data": {
      "application/vnd.jupyter.widget-view+json": {
       "model_id": "289dda300b0340d5af3cb9b73a9e9f68",
       "version_major": 2,
       "version_minor": 0
      },
      "text/plain": [
       "  0%|          | 0/1514 [00:00<?, ?it/s]"
      ]
     },
     "metadata": {},
     "output_type": "display_data"
    },
    {
     "data": {
      "image/png": "[encoded data removed]",
      "text/plain": [
       "<Figure size 432x288 with 2 Axes>"
      ]
     },
     "metadata": {
      "needs_background": "light"
     },
     "output_type": "display_data"
    }
   ],
   "source": [
    "def plot_things(path, sr):\n",
    "  plot_length = []\n",
    "  plot_shape = []\n",
    "\n",
    "  for i in tqdm(path):\n",
    "    data, sample_rate = librosa.load(i, sr=sr)\n",
    "    plot_shape.append(data.shape)\n",
    "    plot_length.append(data.shape[0]/float(sample_rate))\n",
    "\n",
    "  plt.subplot(211)\n",
    "  plt.plot(plot_shape)\n",
    "  plt.ylabel('Train_shape')\n",
    "\n",
    "  plt.subplot(212)\n",
    "  plt.plot(plot_length)\n",
    "  plt.ylabel('Train_length')\n",
    "\n",
    "  plt.suptitle('\\'Things\\'')\n",
    "  \n",
    "  plt.show()\n",
    "\n",
    "plot_things(test_path_list, sr)"
   ]
  },
  {
   "cell_type": "code",
   "execution_count": null,
   "metadata": {},
   "outputs": [],
   "source": [
    "# train_file_names = train_csv[\"file_name\"].to_numpy()\n",
    "# test_file_names = test_csv[\"file_name\"].to_numpy()\n",
    "target = train_csv[\"LABEL\"].to_numpy()\n",
    "\n",
    "def load_audio(file_names, target, path):   \n",
    "  data = []\n",
    "  for audio in tqdm(file_names):\n",
    "    # librosa를 이용하여 데이터 로드\n",
    "    an_audio, _ = librosa.load(path+audio, sr=sr)\n",
    "    audio_array = np.array(an_audio)\n",
    "    data.append(audio_array)\n",
    "  data = np.array(data)\n",
    "\n",
    "  label = target.copy()\n",
    "\n",
    "  return data, label"
   ]
  }
 ],
 "metadata": {
  "kernelspec": {
   "display_name": "Python 3.9.13 ('tf')",
   "language": "python",
   "name": "python3"
  },
  "language_info": {
   "codemirror_mode": {
    "name": "ipython",
    "version": 3
   },
   "file_extension": ".py",
   "mimetype": "text/x-python",
   "name": "python",
   "nbconvert_exporter": "python",
   "pygments_lexer": "ipython3",
   "version": "3.9.13"
  },
  "orig_nbformat": 4,
  "vscode": {
   "interpreter": {
    "hash": "740ff346485a15eee0800c8d2d418f26d2f3f04dc4cd81b3395e1fe7af909bf3"
   }
  }
 },
 "nbformat": 4,
 "nbformat_minor": 2
}
